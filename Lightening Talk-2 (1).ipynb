{
 "cells": [
  {
   "cell_type": "markdown",
   "id": "f4c936eb",
   "metadata": {},
   "source": [
    "### A Jupyter Notebook Demonstration for SimPy\n",
    "\n",
    "By: The PesSIMists Group 02 (Ella Small, Kristen Stewart, Andrew Crawford, and Zack Zhang)\n",
    "\n",
    "for: ME 396P"
   ]
  },
  {
   "cell_type": "markdown",
   "id": "839cbf34",
   "metadata": {},
   "source": [
    "How to download SimPy if you don't already have it:\n",
    "\n",
    "    Type one of the following into your terminal/console depending on if you use pip or conda\n",
    "\n",
    "    $ python3 -m pip install simpy \n",
    "    \n",
    "    or \n",
    "    \n",
    "    conda install -c conda-forge simpy\n"
   ]
  },
  {
   "cell_type": "code",
   "execution_count": 1,
   "id": "7f49c4fa",
   "metadata": {},
   "outputs": [],
   "source": [
    "\"\"\"The following example was adaped from:\n",
    "\n",
    "'Simulating Real-World Processes With SimPy': https://realpython.com/simpy-simulating-with-python/#what-simulation-is\n",
    "\n",
    "\"\"\"\n",
    "\n",
    "# the simulation package we will use:\n",
    "import simpy\n",
    "#other packages for this examples:\n",
    "import random\n",
    "import statistics\n"
   ]
  },
  {
   "cell_type": "markdown",
   "id": "787e8bf9",
   "metadata": {},
   "source": [
    "Simulations require 3 things:\n",
    "1. Establish the environment.\n",
    "2. Pass in the parameters.\n",
    "3. Run the simulation.\n",
    "\n",
    "First you must establish the environment by setting a desired variable = simpy.Environment(). The enviroment moves the simulation throughout the time steps. \n",
    "\n",
    "Then, you’ll pass in all of the variables that will act as your parameters, which are the things you can vary to see how the system will react to changes. \n",
    "\n",
    "Then, it’s time to run the simulation! You can do this by calling env.run() and specifying how long you want the simulation to run for.\n"
   ]
  },
  {
   "cell_type": "markdown",
   "id": "b4702e90",
   "metadata": {},
   "source": [
    "#### For this specific tutorial: \n",
    "Let's say we want to determine how long it will take a person to get into the next UT Football game! We can use SimPy to simulate this based off of how many people will show up, how many employees there are and average times to complete a task.\n",
    "\n",
    "Here our environment is the stadium, and num_security are the number of people checking tickets (its a resource, meaning there are a limited number of them), and num_cashier are the number of people selling food."
   ]
  },
  {
   "cell_type": "code",
   "execution_count": null,
   "id": "75276724",
   "metadata": {},
   "outputs": [],
   "source": [
    "\n",
    "wait_times = []\n",
    "\n",
    "\n",
    "class Stadium(object):\n",
    "    def __init__(self, env, num_cashier, num_security):\n",
    "        self.env = env\n",
    "        self.cashier = simpy.Resource(env, num_cashier)\n",
    "        self.security = simpy.Resource(env, num_security)\n",
    "        \n",
    "    \n",
    "    def check_ticket(self, attendee):\n",
    "        ''' This function tells you how long it takes to scan a ticket. env.timeout() tells simpy to trigger an event\n",
    "        after a certain amount of time has passed. In this case, the event is that a ticket was scanned. \n",
    "        '''\n",
    "        yield self.env.timeout(40 / 60) # in a fraction since it only takes seconds to check the ticket\n",
    "\n",
    "    def sell_food(self, attendee):\n",
    "        '''This function is if a fan wants to buy food, but we want each fan to spend a different amount of time at \n",
    "        the cashier. To do this, you use random.randint() to choose a random number between the given low and high \n",
    "        values(1 to 5 minutes in this case). Then, for each attendee, the simulation will wait for the chosen amount \n",
    "        of time.'''\n",
    "        yield self.env.timeout(random.randint(1, 5))\n",
    "\n"
   ]
  },
  {
   "cell_type": "markdown",
   "id": "864be2ea",
   "metadata": {},
   "source": [
    "You’ll create a function, called go_to_game(), that keeps track of when a UT fan arrives at the stadium, they’ll request a resource, wait for its process to complete, and then leave. \n",
    "\n",
    "There are three arguments passed to this function:\n",
    "\n",
    "1. env: The UT fan will be controlled by the environment.\n",
    "2. UT_fan: This variable tracks each person as they move through the system.\n",
    "3. stadium: This parameter gives you access to the processes you defined in the overall class definition.\n",
    "\n",
    "arrival_time will hold the time at which each fan arrives at the stadium. You can get this time using the simpy call to env.now.\n",
    "\n",
    "You’ll want each of the processes from your stadium to have corresponding requests in go_to_game().The first process in the class is check_ticket(), which uses a security resource which needs a request to help complete the process."
   ]
  },
  {
   "cell_type": "code",
   "execution_count": null,
   "id": "aba582d4",
   "metadata": {},
   "outputs": [],
   "source": [
    "def go_to_game(env, UT_fan, stadium):\n",
    "    # attendee arrives at the stadium\n",
    "    arrival_time = env.now\n",
    "\n",
    "    \n",
    "    ''' \n",
    "    yield request: waits for a cashier to become available if all are currently in use. \n",
    "    yield env.process(): UT_fan uses an available security to complete the given process. \n",
    "    After a resource is used, it is freed up for the next agent to use (when fan enters the gates,\n",
    "    the security is available to check the next ticket).\n",
    "    '''\n",
    "     \n",
    "    with stadium.security.request() as request:\n",
    "        yield request\n",
    "        yield env.process(stadium.check_ticket(UT_fan))\n",
    "    \n",
    "    # Randomly decide if fan needs food\n",
    "    if random.choice([True, False]):\n",
    "        with stadium.cashier.request() as request:\n",
    "            yield request\n",
    "            yield env.process(stadium.sell_food(UT_fan))\n",
    "\n",
    "    # UT fan heads into the stadium\n",
    "    # Use env.now to get the time at which the attendee has finished all processes and made it to their seats.\n",
    "    wait_times.append(env.now - arrival_time)\n",
    "\n"
   ]
  },
  {
   "cell_type": "markdown",
   "id": "4fb6472b",
   "metadata": {},
   "source": [
    "Now you’ll need to define a function to run the simulation. run_stadium() will create an instance of a stadium and generate UT fans until the simulation stops. The first thing this function should do is create an instance of a stadium, which needs the inputs of env, num_cashier, and num_security:\n",
    "\n",
    "\n",
    "When you call this function, the simulation will generate 20 fans to start and begin moving them through the stadium entrance with go_to_stadium(). After that, new fans will arrive at the stadium with an interval of 6 seconds."
   ]
  },
  {
   "cell_type": "code",
   "execution_count": null,
   "id": "7a9f0f02",
   "metadata": {},
   "outputs": [],
   "source": [
    "\n",
    "def run_stadium(env, num_cashier, num_security):\n",
    "    stadium = Stadium(env, num_cashier, num_security)\n",
    "\n",
    "    for UT_fan in range(20):\n",
    "        env.process(go_to_game(env, UT_fan, stadium))\n",
    "\n",
    "    while True:\n",
    "        #Using previous data, you learn that fans tend to arrive at the stadium every 6 seconds. Now all you have to do is tell the function to wait this long before generating a new person:\n",
    "        yield env.timeout(0.10)  # Wait a bit before generating a new person\n",
    "\n",
    "        #After waiting, the function should increment UT_fan by 1 and generate the next person. The generator function is the same one you used to initialize the first 20 fans\n",
    "        UT_fan += 1\n",
    "        env.process(go_to_game(env, UT_fan, stadium))\n",
    "\n"
   ]
  },
  {
   "cell_type": "markdown",
   "id": "b9672dc3",
   "metadata": {},
   "source": [
    "The list wait_times will have the total amount of time it took each UT fan to make it to their seat. Now you’ll want to calculate the average time a fan spends from the time they arrive to the time they finish checking their ticket."
   ]
  },
  {
   "cell_type": "code",
   "execution_count": null,
   "id": "d26a940d",
   "metadata": {},
   "outputs": [],
   "source": [
    "\n",
    "def get_average_wait_time(wait_times):\n",
    "    average_wait = statistics.mean(wait_times)\n",
    "    # Pretty print the results\n",
    "    minutes, frac_minutes = divmod(average_wait, 1)\n",
    "    seconds = frac_minutes * 60\n",
    "    return round(minutes), round(seconds)\n",
    "\n"
   ]
  },
  {
   "cell_type": "markdown",
   "id": "4b7129bb",
   "metadata": {},
   "source": [
    "These variables are the parameters that you can change to see how the simulation changes. If a top-10 matchup has customers lining up around the block, we want to ensure an appropriate number of security are working and prevent a long wait at concessions by making sure the number of cashiers is sufficient.\n",
    "\n",
    "Using simpy, you are able to change the values of these parameters to try out different scenarios using a helper function to get user input:"
   ]
  },
  {
   "cell_type": "code",
   "execution_count": null,
   "id": "0697c33d",
   "metadata": {},
   "outputs": [],
   "source": [
    "\n",
    "def get_user_input():\n",
    "    num_cashier = input(\"Input number of cashiers working: \")\n",
    "    num_security = input(\"Input number of security working: \")\n",
    "    params = [num_cashier, num_security]\n",
    "    if all(str(i).isdigit() for i in params):  # Check input is valid\n",
    "        params = [int(x) for x in params]\n",
    "    else:\n",
    "        print(\n",
    "            \"Could not parse input. Simulation will use default values:\",\n",
    "            \"\\n 1 cashier, 1 security.\",\n",
    "        )\n",
    "        params = [1, 1]\n",
    "    return params\n",
    "\n",
    "\n"
   ]
  },
  {
   "cell_type": "markdown",
   "id": "fc6faceb",
   "metadata": {},
   "source": [
    "Here’s how main() works:\n",
    "\n",
    "1. Get user input.\n",
    "2. Create environment and save it as env, which will move the simulation through each time step.\n",
    "3. Tell simpy to run run_stadium(), which creates the stadium environment and generates UT fans to move.\n",
    "4. Determine how long you want the simulation to run. As a default value, the simulation is set to run for 90 minutes.\n",
    "5. Store the output of get_average_wait_time() in two variables, mins and secs.\n",
    "6. Use print() to show the results to the user."
   ]
  },
  {
   "cell_type": "code",
   "execution_count": null,
   "id": "0837c626",
   "metadata": {},
   "outputs": [],
   "source": [
    "def main():\n",
    "    # Setup\n",
    "    #random.seed(42)\n",
    "    num_cashier, num_security = get_user_input()\n",
    "\n",
    "    # Run the simulation\n",
    "    env = simpy.Environment()\n",
    "    env.process(run_stadium(env, num_cashier, num_security))\n",
    "    env.run(until=90)\n",
    "\n",
    "    # View the results\n",
    "    mins, secs = get_average_wait_time(wait_times)\n",
    "    print(\n",
    "        \"Running simulation...\",\n",
    "        f\"\\nThe average wait time is {mins} minutes and {secs} seconds.\",\n",
    "    )\n",
    "\n",
    "\n",
    "if __name__ == \"__main__\":\n",
    "    main()\n"
   ]
  },
  {
   "cell_type": "code",
   "execution_count": null,
   "id": "7a6cb76f",
   "metadata": {},
   "outputs": [],
   "source": []
  }
 ],
 "metadata": {
  "kernelspec": {
   "display_name": "Python 3 (ipykernel)",
   "language": "python",
   "name": "python3"
  },
  "language_info": {
   "codemirror_mode": {
    "name": "ipython",
    "version": 3
   },
   "file_extension": ".py",
   "mimetype": "text/x-python",
   "name": "python",
   "nbconvert_exporter": "python",
   "pygments_lexer": "ipython3",
   "version": "3.9.12"
  }
 },
 "nbformat": 4,
 "nbformat_minor": 5
}
